{
 "cells": [
  {
   "cell_type": "code",
   "execution_count": 9,
   "metadata": {},
   "outputs": [
    {
     "name": "stdout",
     "output_type": "stream",
     "text": [
      "Sub-fields in AI are:\n",
      "Machine Learning\n",
      "Neural Networks\n",
      "Vision\n",
      "Robotics\n",
      "Speech Processing\n",
      "Natural Language Processing\n"
     ]
    }
   ],
   "source": [
    "#create function\n",
    "def Subfields():\n",
    " print(\"Sub-fields in AI are:\")\n",
    " List=['Machine Learning', 'Neural Networks', 'Vision', 'Robotics', 'Speech Processing', 'Natural Language Processing']\n",
    " for i in List:\n",
    "    print(i)\n",
    "Subfields()\n",
    "        "
   ]
  },
  {
   "cell_type": "code",
   "execution_count": 11,
   "metadata": {},
   "outputs": [
    {
     "name": "stdout",
     "output_type": "stream",
     "text": [
      "Enter the number:4\n",
      "4 is Even number\n"
     ]
    }
   ],
   "source": [
    "#create function\n",
    "def OddEven():\n",
    "    num=int(input(\"Enter the number:\"))\n",
    "    if(num%2==0):\n",
    "        print(num,\"is Even number\")\n",
    "    else:\n",
    "        print(num,\"is odd number\")\n",
    "OddEven()"
   ]
  },
  {
   "cell_type": "code",
   "execution_count": 16,
   "metadata": {},
   "outputs": [
    {
     "name": "stdout",
     "output_type": "stream",
     "text": [
      "Your Gender:male\n",
      "Your age:18\n",
      "not eligible\n"
     ]
    }
   ],
   "source": [
    "#create function\n",
    "def elegible():\n",
    "    gender=input(\"Your Gender:\")\n",
    "    age=int(input(\"Your age:\"))\n",
    "    if(gender==\"male\"):\n",
    "        if(age>=21):\n",
    "            print(\"Eligible\")\n",
    "        else:\n",
    "            print(\"not eligible\")\n",
    "    elif(gender==\"female\"):\n",
    "        if(age>18):\n",
    "            print(\"Eligible\")\n",
    "        else:\n",
    "            print(\"not eligible\")\n",
    "    else:\n",
    "        print(\"the input data not male or female\")\n",
    "elegible()              "
   ]
  },
  {
   "cell_type": "code",
   "execution_count": 22,
   "metadata": {},
   "outputs": [
    {
     "name": "stdout",
     "output_type": "stream",
     "text": [
      "subject1= 23\n",
      "subject2= 45\n",
      "subject3= 34\n",
      "subject4= 23\n",
      "subject5= 23\n",
      "total: 148\n",
      "percentage 29.6\n"
     ]
    }
   ],
   "source": [
    "\n",
    "def percentage():\n",
    "    tam=int(input(\"subject1= \"))\n",
    "    eng=int(input(\"subject2= \"))\n",
    "    mat=int(input(\"subject3= \"))\n",
    "    sci=int(input(\"subject4= \"))\n",
    "    soc=int(input(\"subject5= \"))\n",
    "    total=tam+eng+mat+sci+soc\n",
    "    print(\"total:\",total)\n",
    "    percent=(total/5)\n",
    "    print(\"percentage\",percent)\n",
    "percentage()"
   ]
  },
  {
   "cell_type": "code",
   "execution_count": 23,
   "metadata": {},
   "outputs": [
    {
     "name": "stdout",
     "output_type": "stream",
     "text": [
      "Height:3\n",
      "Breadth:4\n",
      "Area formula: (Height*Breadth)/2\n",
      "Area of Triangle:  6.0\n",
      "Height1:3\n",
      "Height2:4\n",
      "Breadth:45\n",
      "Perimeter formula: Height1+Height2+Breadth\n",
      "Perimeter of Triangle:  52\n"
     ]
    }
   ],
   "source": [
    " def triangle():\n",
    "     Height=int(input(\"Height:\"))\n",
    "     breadth=int(input(\"Breadth:\"))\n",
    "     print(\"Area formula: (Height*Breadth)/2\")\n",
    "     print(\"Area of Triangle: \",(Height*breadth)/2)\n",
    "     Height1=int(input(\"Height1:\"))\n",
    "     Height2=int(input(\"Height2:\"))                                                                                                                                                                                                                                                                                                                                                                                                                                                                                                                                                                                                                                                                                                                                                                                                                                                                                                                                                                                                                                                                                                                                                                                                                                                                                                                                                                                                                                                                                                                                                                                                                                                                                                                                                                          \n",
    "     breadth=int(input(\"Breadth:\"))\n",
    "     print(\"Perimeter formula: Height1+Height2+Breadth\")\n",
    "     print(\"Perimeter of Triangle: \",Height1+Height2+breadth)\n",
    "triangle()\n",
    "           "
   ]
  },
  {
   "cell_type": "code",
   "execution_count": null,
   "metadata": {},
   "outputs": [],
   "source": []
  }
 ],
 "metadata": {
  "kernelspec": {
   "display_name": "Python 3",
   "language": "python",
   "name": "python3"
  },
  "language_info": {
   "codemirror_mode": {
    "name": "ipython",
    "version": 3
   },
   "file_extension": ".py",
   "mimetype": "text/x-python",
   "name": "python",
   "nbconvert_exporter": "python",
   "pygments_lexer": "ipython3",
   "version": "3.7.4"
  }
 },
 "nbformat": 4,
 "nbformat_minor": 2
}
