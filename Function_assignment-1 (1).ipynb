{
 "cells": [
  {
   "cell_type": "code",
   "execution_count": 1,
   "metadata": {},
   "outputs": [
    {
     "name": "stdout",
     "output_type": "stream",
     "text": [
      "Sub-fields in AI are:\n",
      "Machine Learning\n",
      "Neural Networks\n",
      "Vision\n",
      "Robotics\n",
      "Speech Processing\n",
      "Natural Language Processing\n"
     ]
    }
   ],
   "source": [
    "#create function\n",
    "def Subfields():\n",
    " print(\"Sub-fields in AI are:\")\n",
    " List=['Machine Learning', 'Neural Networks', 'Vision', 'Robotics', 'Speech Processing', 'Natural Language Processing']\n",
    " for i in List:\n",
    "    print(i)\n",
    "Subfields()\n",
    "        "
   ]
  },
  {
   "cell_type": "code",
   "execution_count": 3,
   "metadata": {},
   "outputs": [
    {
     "name": "stdin",
     "output_type": "stream",
     "text": [
      "Enter the number: 4\n"
     ]
    },
    {
     "name": "stdout",
     "output_type": "stream",
     "text": [
      "4 is Even number\n"
     ]
    }
   ],
   "source": [
    "#create function\n",
    "def OddEven():\n",
    "    num=int(input(\"Enter the number:\"))\n",
    "    if(num%2==0):\n",
    "        print(num,\"is Even number\")\n",
    "    else:\n",
    "        print(num,\"is odd number\")\n",
    "OddEven()"
   ]
  },
  {
   "cell_type": "code",
   "execution_count": 4,
   "metadata": {},
   "outputs": [
    {
     "name": "stdin",
     "output_type": "stream",
     "text": [
      "Your Gender: male\n",
      "Your age: 34\n"
     ]
    },
    {
     "name": "stdout",
     "output_type": "stream",
     "text": [
      "Eligible\n"
     ]
    }
   ],
   "source": [
    "#create function\n",
    "def elegible():\n",
    "    gender=input(\"Your Gender:\")\n",
    "    age=int(input(\"Your age:\"))\n",
    "    if((gender==\"male\" and gender==\"female\") or (age>=21 and age>18)):\n",
    "        print(\"Eligible\")\n",
    "    else:\n",
    "        print(\"not eligible\")\n",
    "\n",
    "elegible()              "
   ]
  },
  {
   "cell_type": "code",
   "execution_count": 5,
   "metadata": {},
   "outputs": [
    {
     "name": "stdin",
     "output_type": "stream",
     "text": [
      "subject1=  56\n",
      "subject2=  76\n",
      "subject3=  45\n",
      "subject4=  76\n",
      "subject5=  87\n"
     ]
    },
    {
     "name": "stdout",
     "output_type": "stream",
     "text": [
      "total: 340\n",
      "percentage 68.0\n"
     ]
    }
   ],
   "source": [
    "\n",
    "def percentage():\n",
    "    tam=int(input(\"subject1= \"))\n",
    "    eng=int(input(\"subject2= \"))\n",
    "    mat=int(input(\"subject3= \"))\n",
    "    sci=int(input(\"subject4= \"))\n",
    "    soc=int(input(\"subject5= \"))\n",
    "    total=tam+eng+mat+sci+soc\n",
    "    print(\"total:\",total)\n",
    "    percent=(total/5)\n",
    "    print(\"percentage\",percent)\n",
    "percentage()"
   ]
  },
  {
   "cell_type": "code",
   "execution_count": 6,
   "metadata": {},
   "outputs": [
    {
     "name": "stdin",
     "output_type": "stream",
     "text": [
      "Height: 6\n",
      "Breadth: 3\n"
     ]
    },
    {
     "name": "stdout",
     "output_type": "stream",
     "text": [
      "Area formula: (Height*Breadth)/2\n",
      "Area of Triangle:  9.0\n"
     ]
    },
    {
     "name": "stdin",
     "output_type": "stream",
     "text": [
      "Height1: 7\n",
      "Height2: 4\n",
      "Breadth: 7\n"
     ]
    },
    {
     "name": "stdout",
     "output_type": "stream",
     "text": [
      "Perimeter formula: Height1+Height2+Breadth\n",
      "Perimeter of Triangle:  18\n"
     ]
    }
   ],
   "source": [
    " def triangle():\n",
    "     Height=int(input(\"Height:\"))\n",
    "     breadth=int(input(\"Breadth:\"))\n",
    "     print(\"Area formula: (Height*Breadth)/2\")\n",
    "     print(\"Area of Triangle: \",(Height*breadth)/2)\n",
    "     Height1=int(input(\"Height1:\"))\n",
    "     Height2=int(input(\"Height2:\"))                                                                                                                                                                                                                                                                                                                                                                                                                                                                                                                                                                                                                                                                                                                                                                                                                                                                                                                                                                                                                                                                                                                                                                                                                                                                                                                                                                                                                                                                                                                                                                                                                                                                                                                                                                          \n",
    "     breadth=int(input(\"Breadth:\"))\n",
    "     print(\"Perimeter formula: Height1+Height2+Breadth\")\n",
    "     print(\"Perimeter of Triangle: \",Height1+Height2+breadth)\n",
    "triangle()\n",
    "           "
   ]
  },
  {
   "cell_type": "code",
   "execution_count": null,
   "metadata": {},
   "outputs": [],
   "source": []
  }
 ],
 "metadata": {
  "kernelspec": {
   "display_name": "Python 3 (ipykernel)",
   "language": "python",
   "name": "python3"
  },
  "language_info": {
   "codemirror_mode": {
    "name": "ipython",
    "version": 3
   },
   "file_extension": ".py",
   "mimetype": "text/x-python",
   "name": "python",
   "nbconvert_exporter": "python",
   "pygments_lexer": "ipython3",
   "version": "3.11.5"
  }
 },
 "nbformat": 4,
 "nbformat_minor": 4
}
