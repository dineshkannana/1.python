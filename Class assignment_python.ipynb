{
 "cells": [
  {
   "cell_type": "code",
   "execution_count": 1,
   "metadata": {},
   "outputs": [
    {
     "name": "stdout",
     "output_type": "stream",
     "text": [
      "Sub-fields in AI are:\n",
      "Machine Learning\n",
      "Neural Networks\n",
      "Vision\n",
      "Robotics\n",
      "Speech Processing\n",
      "Natural Language Processing\n"
     ]
    }
   ],
   "source": [
    "# Create a class and function, and list out the items in the list\n",
    "class SubfieldsInAI():\n",
    "    def Subfields():\n",
    "        print(\"Sub-fields in AI are:\")\n",
    "        List=['Machine Learning', 'Neural Networks', 'Vision', 'Robotics', 'Speech Processing', 'Natural Language Processing']\n",
    "        for i in List:\n",
    "            print(i)\n",
    "SubfieldsInAI.Subfields()"
   ]
  },
  {
   "cell_type": "code",
   "execution_count": 2,
   "metadata": {},
   "outputs": [
    {
     "name": "stdout",
     "output_type": "stream",
     "text": [
      "Enter the number:52452\n",
      "52452 is Even number\n"
     ]
    }
   ],
   "source": [
    "# Create a function that checks whether the given number is Odd or Even\n",
    "class OddEven():\n",
    "    def OddEven():\n",
    "        num=int(input(\"Enter the number:\"))\n",
    "        if(num%2==0):\n",
    "            print(num,\"is Even number\")\n",
    "        else:\n",
    "            print(num,\"is odd number\")\n",
    "OddEven.OddEven()\n"
   ]
  },
  {
   "cell_type": "code",
   "execution_count": 1,
   "metadata": {},
   "outputs": [
    {
     "name": "stdout",
     "output_type": "stream",
     "text": [
      "Your Gender:male\n",
      "Your age:20\n",
      "not eligible\n"
     ]
    }
   ],
   "source": [
    "# Create a function that tells elegibility of marriage for male and female according to their age limit like 21 for male and 18 for female\n",
    "class ElegiblityForMarriage():\n",
    "    def elegible():\n",
    "        gender=input(\"Your Gender:\")\n",
    "        age=int(input(\"Your age:\"))\n",
    "        if((gender==\"male\" and gender==\"female\") or (age>=21 and age>18)):\n",
    "            print(\"Eligible\")\n",
    "        else:\n",
    "            print(\"not eligible\")\n",
    "ElegiblityForMarriage.elegible()   "
   ]
  },
  {
   "cell_type": "code",
   "execution_count": 5,
   "metadata": {},
   "outputs": [
    {
     "name": "stdout",
     "output_type": "stream",
     "text": [
      "subject1= 98\n",
      "subject2= 87\n",
      "subject3= 95\n",
      "subject4= 95\n",
      "subject5= 93\n",
      "total: 468\n",
      "percentage 93.6\n"
     ]
    }
   ],
   "source": [
    "# calculate the percentage of your 10th mark\n",
    "class FindPercent():\n",
    "    def percentage():\n",
    "        tam=int(input(\"subject1= \"))\n",
    "        eng=int(input(\"subject2= \"))\n",
    "        mat=int(input(\"subject3= \"))\n",
    "        sci=int(input(\"subject4= \"))\n",
    "        soc=int(input(\"subject5= \"))\n",
    "        total=tam+eng+mat+sci+soc\n",
    "        print(\"total:\",total)\n",
    "        percent=(total/5)\n",
    "        print(\"percentage\",percent)\n",
    "FindPercent.percentage()"
   ]
  },
  {
   "cell_type": "code",
   "execution_count": 6,
   "metadata": {},
   "outputs": [
    {
     "name": "stdout",
     "output_type": "stream",
     "text": [
      "Height:32\n",
      "Breadth:34\n",
      "Area formula: (Height*Breadth)/2\n",
      "Area of Triangle:  544.0\n",
      "Height1:2\n",
      "Height2:4\n",
      "Breadth:4\n",
      "Perimeter formula: Height1+Height2+Breadth\n",
      "Perimeter of Triangle:  10\n"
     ]
    }
   ],
   "source": [
    "#print area and perimeter of triangle using class and functions\n",
    "class triangle():\n",
    "    def triangle():\n",
    "         Height=int(input(\"Height:\"))\n",
    "         breadth=int(input(\"Breadth:\"))\n",
    "         print(\"Area formula: (Height*Breadth)/2\")\n",
    "         print(\"Area of Triangle: \",(Height*breadth)/2)\n",
    "         Height1=int(input(\"Height1:\"))\n",
    "         Height2=int(input(\"Height2:\"))                                                                                                                                                                                                                                                                                                                                                                                                                                                                                                                                                                                                                                                                                                                                                                                                                                                                                                                                                                                                                                                                                                                                                                                                                                                                                                                                                                                                                                                                                                                                                                                                                                                                                                                                                                          \n",
    "         breadth=int(input(\"Breadth:\"))\n",
    "         print(\"Perimeter formula: Height1+Height2+Breadth\")\n",
    "         print(\"Perimeter of Triangle: \",Height1+Height2+breadth)\n",
    "triangle.triangle()"
   ]
  },
  {
   "cell_type": "code",
   "execution_count": null,
   "metadata": {},
   "outputs": [],
   "source": []
  }
 ],
 "metadata": {
  "kernelspec": {
   "display_name": "Python 3",
   "language": "python",
   "name": "python3"
  },
  "language_info": {
   "codemirror_mode": {
    "name": "ipython",
    "version": 3
   },
   "file_extension": ".py",
   "mimetype": "text/x-python",
   "name": "python",
   "nbconvert_exporter": "python",
   "pygments_lexer": "ipython3",
   "version": "3.7.4"
  }
 },
 "nbformat": 4,
 "nbformat_minor": 2
}
